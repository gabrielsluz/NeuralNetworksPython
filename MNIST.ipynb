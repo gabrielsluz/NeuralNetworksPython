{
 "cells": [
  {
   "cell_type": "code",
   "execution_count": 1,
   "metadata": {},
   "outputs": [],
   "source": [
    "from softmax_neural_network import *\n",
    "import matplotlib.pyplot as plt\n",
    "import tensorflow as tf\n",
    "import time"
   ]
  },
  {
   "cell_type": "markdown",
   "metadata": {},
   "source": [
    "This notebook tests different modifications to a softmax output neural network "
   ]
  },
  {
   "cell_type": "code",
   "execution_count": 2,
   "metadata": {},
   "outputs": [],
   "source": [
    "(x_train_orig, y_train_orig), (x_test_orig, y_test_orig) = tf.keras.datasets.mnist.load_data()"
   ]
  },
  {
   "cell_type": "code",
   "execution_count": 3,
   "metadata": {},
   "outputs": [
    {
     "name": "stdout",
     "output_type": "stream",
     "text": [
      "4\n"
     ]
    },
    {
     "data": {
      "text/plain": [
       "<matplotlib.image.AxesImage at 0xb2efd49e8>"
      ]
     },
     "execution_count": 3,
     "metadata": {},
     "output_type": "execute_result"
    },
    {
     "data": {
      "image/png": "[encoded data removed]",
      "text/plain": [
       "<Figure size 432x288 with 1 Axes>"
      ]
     },
     "metadata": {
      "needs_background": "light"
     },
     "output_type": "display_data"
    }
   ],
   "source": [
    "%matplotlib inline\n",
    "image_index = 60# You may select anything up to 60,000\n",
    "print(y_train_orig[image_index]) \n",
    "plt.imshow(x_train_orig[image_index], cmap='Greys')"
   ]
  },
  {
   "cell_type": "code",
   "execution_count": 4,
   "metadata": {},
   "outputs": [
    {
     "name": "stdout",
     "output_type": "stream",
     "text": [
      "Number of labels = 10\n",
      "y_train shape = (10, 60000)\n",
      "y_test shape = (10, 10000)\n",
      "one_hot = [0. 0. 0. 0. 0. 1. 0. 0. 0. 0.] original label = 5\n",
      "one_hot = [0. 0. 1. 0. 0. 0. 0. 0. 0. 0.] original label = 2\n",
      "x_train shape = (784, 60000)\n",
      "x_test shape = (784, 10000)\n"
     ]
    }
   ],
   "source": [
    "#Basic setup\n",
    "def one_hotorize(x, num_labels):\n",
    "    #x must be of shape (1,m)\n",
    "    m = x.shape[1]\n",
    "    columns = np.arange(m)\n",
    "    one_indexes = x\n",
    "    one_hot = np.zeros((num_labels, m))\n",
    "    one_hot[one_indexes, columns] = 1\n",
    "    return one_hot\n",
    "    \n",
    "num_labels = 10\n",
    "print(\"Number of labels = \" + str(num_labels))\n",
    "\n",
    "#Reshaping the y arrays, to be an example each column and one hot vetors\n",
    "y_train_one = y_train_orig.reshape(y_train_orig.shape[0],1).T\n",
    "y_test_one = y_test_orig.reshape(y_test_orig.shape[0],1).T\n",
    "\n",
    "y_train = one_hotorize(y_train_one, num_labels)\n",
    "y_test = one_hotorize(y_test_one, num_labels)\n",
    "\n",
    "y_train = y_train.astype('float')\n",
    "y_test = y_test.astype('float')\n",
    "\n",
    "print(\"y_train shape = \" + str(y_train.shape))\n",
    "print(\"y_test shape = \" + str(y_test.shape))\n",
    "\n",
    "print(\"one_hot = \" + str(y_train[:,0]) + \" original label = \" + str(y_train_orig[0]))\n",
    "print(\"one_hot = \" + str(y_train[:,555]) + \" original label = \" + str(y_train_orig[555]))\n",
    "\n",
    "#Reshaping the x tensors to a matrix of the examples as each column\n",
    "x_train = x_train_orig.reshape(x_train_orig.shape[0],x_train_orig.shape[1] * x_train_orig.shape[2]) .T\n",
    "x_test = x_test_orig.reshape(x_test_orig.shape[0],x_test_orig.shape[1] * x_test_orig.shape[2]) .T\n",
    "\n",
    "x_train = x_train.astype('float')\n",
    "x_test = x_test.astype('float')\n",
    "\n",
    "#Normalizing\n",
    "x_train /= 255\n",
    "x_test /= 255\n",
    "\n",
    "print(\"x_train shape = \" + str(x_train.shape))\n",
    "print(\"x_test shape = \" + str(x_test.shape))\n"
   ]
  },
  {
   "cell_type": "code",
   "execution_count": 5,
   "metadata": {},
   "outputs": [],
   "source": [
    "def compute_accuracy(predictions, Y):\n",
    "    m = Y.shape[1]\n",
    "    mistakes = np.sum(np.abs(predictions - Y)) / 2\n",
    "    return (m - mistakes) / m"
   ]
  },
  {
   "cell_type": "markdown",
   "metadata": {},
   "source": [
    "### One layer network"
   ]
  },
  {
   "cell_type": "code",
   "execution_count": 6,
   "metadata": {},
   "outputs": [],
   "source": [
    "#Single Layer\n",
    "n_x = x_train.shape[0]\n",
    "layers = [n_x, num_labels]\n",
    "num_hidden_layers = len(layers) - 1"
   ]
  },
  {
   "cell_type": "code",
   "execution_count": 7,
   "metadata": {},
   "outputs": [
    {
     "name": "stdout",
     "output_type": "stream",
     "text": [
      "Cost in iteration 0 is = 2.5881537644539843\n",
      "Cost in iteration 100 is = 0.3902811600893581\n",
      "Cost in iteration 200 is = 0.3450525490045829\n",
      "Cost in iteration 300 is = 0.3251222218593712\n",
      "Cost in iteration 400 is = 0.31317090384114943\n",
      "Cost in iteration 500 is = 0.30494893735382084\n",
      "Cost in iteration 600 is = 0.29882514609703126\n",
      "Cost in iteration 700 is = 0.29401964838669775\n",
      "Cost in iteration 800 is = 0.2901063748807117\n",
      "Cost in iteration 900 is = 0.2868304685444747\n",
      "54.80318093299866\n"
     ]
    }
   ],
   "source": [
    "start = time.time()\n",
    "parameters, costs = model_SNN(x_train, y_train, layers, learning_rate = 0.5, num_iterations = 1000, print_cost = True, print_every = 100, initialization = \"rand\", loaded_parameters = {})\n",
    "end = time.time()\n",
    "print(end - start)"
   ]
  },
  {
   "cell_type": "code",
   "execution_count": 8,
   "metadata": {},
   "outputs": [],
   "source": [
    "predictions = predict_SNN(x_test, parameters, num_hidden_layers)"
   ]
  },
  {
   "cell_type": "code",
   "execution_count": 9,
   "metadata": {},
   "outputs": [
    {
     "name": "stdout",
     "output_type": "stream",
     "text": [
      "0.9217\n"
     ]
    }
   ],
   "source": [
    "accuracy = compute_accuracy(predictions, y_test)\n",
    "print(accuracy)"
   ]
  },
  {
   "cell_type": "code",
   "execution_count": 10,
   "metadata": {},
   "outputs": [
    {
     "data": {
      "text/plain": [
       "array([[0.],\n",
       "       [0.],\n",
       "       [0.],\n",
       "       [0.],\n",
       "       [1.],\n",
       "       [0.],\n",
       "       [0.],\n",
       "       [0.],\n",
       "       [0.],\n",
       "       [0.]])"
      ]
     },
     "execution_count": 10,
     "metadata": {},
     "output_type": "execute_result"
    }
   ],
   "source": [
    "example = x_train[:, 60].reshape(784, 1) # It is the digit 4\n",
    "prediction_ex = predict_SNN(example, parameters, num_hidden_layers)\n",
    "prediction_ex"
   ]
  },
  {
   "cell_type": "markdown",
   "metadata": {},
   "source": [
    "### Two Layer network"
   ]
  },
  {
   "cell_type": "code",
   "execution_count": 77,
   "metadata": {},
   "outputs": [
    {
     "name": "stdout",
     "output_type": "stream",
     "text": [
      "Cost in iteration 0 is = 2.628091790875612\n",
      "Cost in iteration 100 is = 0.5506286840081004\n",
      "Cost in iteration 200 is = 0.41344062028613615\n",
      "Cost in iteration 300 is = 0.39645394652606764\n",
      "Cost in iteration 400 is = 0.36288063245494795\n",
      "Cost in iteration 500 is = 0.3365463970927597\n",
      "Cost in iteration 600 is = 0.32801114667833225\n",
      "Cost in iteration 700 is = 0.32101545844571266\n",
      "Cost in iteration 800 is = 0.30290485888390783\n",
      "Cost in iteration 900 is = 0.29391283713113336\n"
     ]
    }
   ],
   "source": [
    "n_x = x_train.shape[0]\n",
    "layers = [n_x, 10, num_labels]\n",
    "num_hidden_layers = len(layers) - 1\n",
    "parameters, costs = model_SNN(x_train, y_train, layers, learning_rate = 0.5, num_iterations = 1000, print_cost = True, print_every = 100, initialization = \"rand\", loaded_parameters = {})\n"
   ]
  },
  {
   "cell_type": "code",
   "execution_count": 78,
   "metadata": {},
   "outputs": [
    {
     "name": "stdout",
     "output_type": "stream",
     "text": [
      "0.9124\n"
     ]
    }
   ],
   "source": [
    "predictions = predict_SNN(x_test, parameters, num_hidden_layers)\n",
    "accuracy = compute_accuracy(predictions, y_test)\n",
    "print(accuracy)"
   ]
  },
  {
   "cell_type": "markdown",
   "metadata": {},
   "source": [
    "### Using mini batch"
   ]
  },
  {
   "cell_type": "code",
   "execution_count": 13,
   "metadata": {},
   "outputs": [
    {
     "name": "stdout",
     "output_type": "stream",
     "text": [
      "Cost in iteration 0 is = 0.4265935887863252\n",
      "Cost in iteration 100 is = 0.15137063555854466\n",
      "Cost in iteration 200 is = 0.1087581215290541\n",
      "Cost in iteration 300 is = 0.08637122106257683\n",
      "Cost in iteration 400 is = 0.07487199388815417\n",
      "Cost in iteration 500 is = 0.06889265314537459\n",
      "Cost in iteration 600 is = 0.06538198017580027\n",
      "Cost in iteration 700 is = 0.06304507026853262\n",
      "Cost in iteration 800 is = 0.061338205385063994\n",
      "Cost in iteration 900 is = 0.060008286936585574\n",
      "284.6042697429657\n"
     ]
    }
   ],
   "source": [
    "#Single Layer\n",
    "n_x = x_train.shape[0]\n",
    "layers = [n_x, num_labels]\n",
    "num_hidden_layers = len(layers) - 1\n",
    "start = time.time()\n",
    "parameters, costs = model_mini_batch_SNN(x_train, y_train, layers, learning_rate = 0.5, mini_batch_size = 512, num_iterations = 1000, print_cost = True, print_every = 100, initialization = \"rand\", loaded_parameters = {})\n",
    "end = time.time()\n",
    "print(end - start)"
   ]
  },
  {
   "cell_type": "code",
   "execution_count": 15,
   "metadata": {},
   "outputs": [
    {
     "name": "stdout",
     "output_type": "stream",
     "text": [
      "0.9251\n"
     ]
    }
   ],
   "source": [
    "predictions = predict_SNN(x_test, parameters, num_hidden_layers)\n",
    "accuracy = compute_accuracy(predictions, y_test)\n",
    "print(accuracy)"
   ]
  },
  {
   "cell_type": "code",
   "execution_count": 13,
   "metadata": {},
   "outputs": [
    {
     "name": "stdout",
     "output_type": "stream",
     "text": [
      "Cost in iteration 0 is = 0.12675401522909735\n",
      "Cost in iteration 100 is = 0.05119914415662789\n",
      "Cost in iteration 200 is = 0.04854721825254969\n",
      "Cost in iteration 300 is = 0.04656895844891905\n",
      "Cost in iteration 400 is = 0.044841693373865156\n",
      "42.26091718673706\n"
     ]
    }
   ],
   "source": [
    "#Single Layer\n",
    "n_x = x_train.shape[0]\n",
    "layers = [n_x, num_labels]\n",
    "num_hidden_layers = len(layers) - 1\n",
    "start = time.time()\n",
    "parameters, costs = model_mini_batch_SNN(x_train, y_train, layers, learning_rate = 0.5, mini_batch_size = 64, num_iterations = 500, print_cost = True, print_every = 100, initialization = \"rand\", loaded_parameters = {})\n",
    "end = time.time()\n",
    "print(end - start)"
   ]
  },
  {
   "cell_type": "code",
   "execution_count": 12,
   "metadata": {},
   "outputs": [
    {
     "name": "stdout",
     "output_type": "stream",
     "text": [
      "0.9149\n"
     ]
    }
   ],
   "source": [
    "predictions = predict_SNN(x_test, parameters, num_hidden_layers)\n",
    "accuracy = compute_accuracy(predictions, y_test)\n",
    "print(accuracy)"
   ]
  },
  {
   "cell_type": "code",
   "execution_count": 15,
   "metadata": {},
   "outputs": [
    {
     "name": "stdout",
     "output_type": "stream",
     "text": [
      "Cost in iteration 0 is = 0.3464976565029541\n",
      "Cost in iteration 100 is = 0.22983092752853196\n",
      "Cost in iteration 200 is = 0.21972826332629627\n",
      "Cost in iteration 300 is = 0.2135202858545402\n",
      "Cost in iteration 400 is = 0.2089848840855029\n",
      "Time = 22.64107084274292\n",
      "accuracy = 0.9257\n"
     ]
    }
   ],
   "source": [
    "#Single Layer 1024 = mini batch\n",
    "n_x = x_train.shape[0]\n",
    "layers = [n_x, num_labels]\n",
    "num_hidden_layers = len(layers) - 1\n",
    "start = time.time()\n",
    "parameters, costs = model_mini_batch_SNN(x_train, y_train, layers, learning_rate = 0.5, mini_batch_size = 1024, num_iterations = 500, print_cost = True, print_every = 100, initialization = \"rand\", loaded_parameters = {})\n",
    "end = time.time()\n",
    "print(\"Time = \" + str(end - start))\n",
    "\n",
    "predictions = predict_SNN(x_test, parameters, num_hidden_layers)\n",
    "accuracy = compute_accuracy(predictions, y_test)\n",
    "print(\"accuracy = \" + str(accuracy))"
   ]
  },
  {
   "cell_type": "code",
   "execution_count": 16,
   "metadata": {},
   "outputs": [
    {
     "name": "stdout",
     "output_type": "stream",
     "text": [
      "Cost in iteration 0 is = 0.4482235220891359\n",
      "Cost in iteration 100 is = 0.21050854704216068\n",
      "Cost in iteration 200 is = 0.19278666731673502\n",
      "Cost in iteration 300 is = 0.18184837549023186\n",
      "Cost in iteration 400 is = 0.17383526755129858\n",
      "Time = 22.68686294555664\n",
      "accuracy = 0.9247\n"
     ]
    }
   ],
   "source": [
    "#Single Layer 2048 = mini batch\n",
    "n_x = x_train.shape[0]\n",
    "layers = [n_x, num_labels]\n",
    "num_hidden_layers = len(layers) - 1\n",
    "start = time.time()\n",
    "parameters, costs = model_mini_batch_SNN(x_train, y_train, layers, learning_rate = 0.5, mini_batch_size = 2048, num_iterations = 500, print_cost = True, print_every = 100, initialization = \"rand\", loaded_parameters = {})\n",
    "end = time.time()\n",
    "print(\"Time = \" + str(end - start))\n",
    "\n",
    "predictions = predict_SNN(x_test, parameters, num_hidden_layers)\n",
    "accuracy = compute_accuracy(predictions, y_test)\n",
    "print(\"accuracy = \" + str(accuracy))"
   ]
  },
  {
   "cell_type": "code",
   "execution_count": 17,
   "metadata": {},
   "outputs": [
    {
     "name": "stdout",
     "output_type": "stream",
     "text": [
      "Cost in iteration 0 is = 0.35914089442030445\n",
      "Cost in iteration 100 is = 0.18388237300726626\n",
      "Cost in iteration 200 is = 0.17496374361935993\n",
      "Cost in iteration 300 is = 0.17067239965999598\n",
      "Cost in iteration 400 is = 0.16806163085336587\n",
      "Time = 23.112200021743774\n",
      "accuracy = 0.9262\n"
     ]
    }
   ],
   "source": [
    "#Single Layer 1500 = mini batch\n",
    "n_x = x_train.shape[0]\n",
    "layers = [n_x, num_labels]\n",
    "num_hidden_layers = len(layers) - 1\n",
    "start = time.time()\n",
    "parameters, costs = model_mini_batch_SNN(x_train, y_train, layers, learning_rate = 0.5, mini_batch_size = 1500, num_iterations = 500, print_cost = True, print_every = 100, initialization = \"rand\", loaded_parameters = {})\n",
    "end = time.time()\n",
    "print(\"Time = \" + str(end - start))\n",
    "\n",
    "predictions = predict_SNN(x_test, parameters, num_hidden_layers)\n",
    "accuracy = compute_accuracy(predictions, y_test)\n",
    "print(\"accuracy = \" + str(accuracy))"
   ]
  },
  {
   "cell_type": "markdown",
   "metadata": {},
   "source": [
    "Mini batch = 1024 seems good"
   ]
  },
  {
   "cell_type": "markdown",
   "metadata": {},
   "source": [
    "The next networks were trained until the test accuracy started to decrease."
   ]
  },
  {
   "cell_type": "code",
   "execution_count": 52,
   "metadata": {},
   "outputs": [
    {
     "name": "stdout",
     "output_type": "stream",
     "text": [
      "Cost in iteration 0 is = 0.34618716857415444\n",
      "Cost in iteration 100 is = 0.22827561448148764\n",
      "Cost in iteration 200 is = 0.2190930924100927\n",
      "Cost in iteration 300 is = 0.21317666635638363\n",
      "Cost in iteration 400 is = 0.20875294225514346\n",
      "Time = 24.123496055603027\n",
      "accuracy = 0.9261\n"
     ]
    }
   ],
   "source": [
    "#Single Layer 1024 = mini batch\n",
    "n_x = x_train.shape[0]\n",
    "layers = [n_x, num_labels]\n",
    "num_hidden_layers = len(layers) - 1\n",
    "start = time.time()\n",
    "parameters, costs = model_mini_batch_SNN(x_train, y_train, layers, learning_rate = 0.5, mini_batch_size = 1024, num_iterations = 500, print_cost = True, print_every = 100, initialization = \"he\", loaded_parameters = {})\n",
    "end = time.time()\n",
    "print(\"Time = \" + str(end - start))\n",
    "\n",
    "predictions = predict_SNN(x_test, parameters, num_hidden_layers)\n",
    "accuracy = compute_accuracy(predictions, y_test)\n",
    "print(\"accuracy = \" + str(accuracy))"
   ]
  },
  {
   "cell_type": "markdown",
   "metadata": {},
   "source": [
    "A 1 layer Neural Network with layers = [n_x, num_labels], was able to achieve 0.9259 accuracy after 500 epochs (iterations) using rand initialization, and using he initialization achieved 0.926"
   ]
  },
  {
   "cell_type": "code",
   "execution_count": 38,
   "metadata": {},
   "outputs": [
    {
     "name": "stdout",
     "output_type": "stream",
     "text": [
      "Cost in iteration 0 is = 0.0024559041803709322\n",
      "Cost in iteration 5 is = 0.002327650411082103\n",
      "Cost in iteration 10 is = 0.002221560871610168\n",
      "Cost in iteration 15 is = 0.0021163175111771596\n",
      "Cost in iteration 20 is = 0.0020169895723625183\n",
      "Cost in iteration 25 is = 0.001925797658581512\n",
      "Cost in iteration 30 is = 0.0018436633444008092\n",
      "Cost in iteration 35 is = 0.0017722444914671717\n",
      "Cost in iteration 40 is = 0.0016985298402438908\n",
      "Cost in iteration 45 is = 0.0016324635984340213\n",
      "Time = 28.535768032073975\n",
      "accuracy = 0.9785\n"
     ]
    }
   ],
   "source": [
    "#Dual Layer 1024 = mini batch\n",
    "n_x = x_train.shape[0]\n",
    "layers = [n_x, 300, num_labels]\n",
    "num_hidden_layers = len(layers) - 1\n",
    "start = time.time()\n",
    "parameters, costs = model_mini_batch_SNN(x_train, y_train, layers, learning_rate = 0.5, mini_batch_size = 1024, num_iterations = 50, print_cost = True, print_every = 5, initialization = \"load\", loaded_parameters = parameters)\n",
    "end = time.time()\n",
    "print(\"Time = \" + str(end - start))\n",
    "\n",
    "predictions = predict_SNN(x_test, parameters, num_hidden_layers)\n",
    "accuracy = compute_accuracy(predictions, y_test)\n",
    "print(\"accuracy = \" + str(accuracy))"
   ]
  },
  {
   "cell_type": "markdown",
   "metadata": {},
   "source": [
    "A 2 layer Neural Network with layers = [n_x, 300, num_labels], was able to achieve 0.9785 accuracy after a few hundred epochs (iterations)"
   ]
  },
  {
   "cell_type": "code",
   "execution_count": 44,
   "metadata": {},
   "outputs": [
    {
     "name": "stdout",
     "output_type": "stream",
     "text": [
      "Cost in iteration 0 is = 0.0006973001923751357\n",
      "Time = 4.777189016342163\n",
      "accuracy = 0.9802\n"
     ]
    }
   ],
   "source": [
    "#Dual Layer 1024 = mini batch\n",
    "n_x = x_train.shape[0]\n",
    "layers = [n_x, 500, num_labels]\n",
    "num_hidden_layers = len(layers) - 1\n",
    "start = time.time()\n",
    "parameters, costs = model_mini_batch_SNN(x_train, y_train, layers, learning_rate = 0.5, mini_batch_size = 1024, num_iterations = 5, print_cost = True, print_every = 5, initialization = \"load\", loaded_parameters = parameters)\n",
    "end = time.time()\n",
    "print(\"Time = \" + str(end - start))\n",
    "\n",
    "predictions = predict_SNN(x_test, parameters, num_hidden_layers)\n",
    "accuracy = compute_accuracy(predictions, y_test)\n",
    "print(\"accuracy = \" + str(accuracy))"
   ]
  },
  {
   "cell_type": "markdown",
   "metadata": {},
   "source": [
    "A 2 layer Neural Network with layers = [n_x, 500, num_labels], was able to achieve 0.9802 accuracy after 200 epochs (iterations)"
   ]
  },
  {
   "cell_type": "code",
   "execution_count": 58,
   "metadata": {},
   "outputs": [
    {
     "name": "stdout",
     "output_type": "stream",
     "text": [
      "Cost in iteration 0 is = 0.0006960520135410659\n",
      "Cost in iteration 5 is = 0.0006811710324105103\n",
      "Cost in iteration 10 is = 0.0006664663845024495\n",
      "Cost in iteration 15 is = 0.0006513146708574599\n",
      "Cost in iteration 20 is = 0.0006374387170646006\n",
      "Cost in iteration 25 is = 0.0006266536982122721\n",
      "Cost in iteration 30 is = 0.0006134631832131514\n",
      "Cost in iteration 35 is = 0.000601018768349571\n",
      "Cost in iteration 40 is = 0.0005898896534788594\n",
      "Cost in iteration 45 is = 0.0005774105369109285\n",
      "Time = 93.65585780143738\n",
      "accuracy = 0.9803\n"
     ]
    }
   ],
   "source": [
    "#Dual Layer 1024 = mini batch\n",
    "n_x = x_train.shape[0]\n",
    "layers = [n_x, 800, num_labels]\n",
    "num_hidden_layers = len(layers) - 1\n",
    "start = time.time()\n",
    "parameters, costs = model_mini_batch_SNN(x_train, y_train, layers, learning_rate = 0.5, mini_batch_size = 1024, num_iterations = 50, print_cost = True, print_every = 5, initialization = \"load\", loaded_parameters = parameters)\n",
    "end = time.time()\n",
    "print(\"Time = \" + str(end - start))\n",
    "\n",
    "predictions = predict_SNN(x_test, parameters, num_hidden_layers)\n",
    "accuracy = compute_accuracy(predictions, y_test)\n",
    "print(\"accuracy = \" + str(accuracy))"
   ]
  },
  {
   "cell_type": "markdown",
   "metadata": {},
   "source": [
    "A 2 layer Neural Network with layers = [n_x, 800, num_labels], was able to achieve 0.9803 accuracy after a few hundred epochs (iterations)"
   ]
  },
  {
   "cell_type": "code",
   "execution_count": 63,
   "metadata": {},
   "outputs": [
    {
     "name": "stdout",
     "output_type": "stream",
     "text": [
      "Cost in iteration 0 is = 0.3518723915010096\n",
      "Cost in iteration 5 is = 0.14967478196135134\n",
      "Cost in iteration 10 is = 0.0969908274517386\n",
      "Cost in iteration 15 is = 0.05044248457393221\n",
      "Cost in iteration 20 is = 0.024001480383161588\n",
      "Cost in iteration 25 is = 0.012406956927938606\n",
      "Cost in iteration 30 is = 0.00862411405402056\n",
      "Cost in iteration 35 is = 0.006624224913766416\n",
      "Cost in iteration 40 is = 0.005158280211988516\n",
      "Cost in iteration 45 is = 0.003994065982074608\n",
      "Time = 82.9796929359436\n",
      "accuracy = 0.9807\n"
     ]
    }
   ],
   "source": [
    "#Dual Layer 1024 = mini batch\n",
    "n_x = x_train.shape[0]\n",
    "layers = [n_x, 800, num_labels]\n",
    "num_hidden_layers = len(layers) - 1\n",
    "start = time.time()\n",
    "parameters, costs = model_mini_batch_SNN(x_train, y_train, layers, learning_rate = 0.5, mini_batch_size = 512, num_iterations = 50, print_cost = True, print_every = 5, initialization = \"rand\", loaded_parameters = parameters)\n",
    "end = time.time()\n",
    "print(\"Time = \" + str(end - start))\n",
    "\n",
    "predictions = predict_SNN(x_test, parameters, num_hidden_layers)\n",
    "accuracy = compute_accuracy(predictions, y_test)\n",
    "print(\"accuracy = \" + str(accuracy))"
   ]
  },
  {
   "cell_type": "markdown",
   "metadata": {},
   "source": [
    "A 2 layer Neural Network with layers = [n_x, 800, num_labels], was able to achieve 0.9807 accuracy after 50 epochs (iterations) using mini batch = 512"
   ]
  },
  {
   "cell_type": "markdown",
   "metadata": {},
   "source": [
    "## Dropout"
   ]
  },
  {
   "cell_type": "code",
   "execution_count": 7,
   "metadata": {},
   "outputs": [
    {
     "name": "stdout",
     "output_type": "stream",
     "text": [
      "Cost in iteration 0 is = 0.47641816962281497\n",
      "Cost in iteration 5 is = 0.16022762118908204\n",
      "Cost in iteration 10 is = 0.06947342615865355\n",
      "Cost in iteration 15 is = 0.04244075903157903\n",
      "Cost in iteration 20 is = 0.029797895433713837\n",
      "Cost in iteration 25 is = 0.02170085406965891\n",
      "Cost in iteration 30 is = 0.022579875524401577\n",
      "Cost in iteration 35 is = 0.017345630075120372\n",
      "Cost in iteration 40 is = 0.0055066382953978385\n",
      "Cost in iteration 45 is = 0.010772511650369312\n",
      "Time = 114.35296988487244\n",
      "accuracy = 0.9809\n"
     ]
    }
   ],
   "source": [
    "#Dual Layer 1024 mini batch with dropout\n",
    "n_x = x_train.shape[0]\n",
    "layers = [n_x, 800, num_labels]\n",
    "num_hidden_layers = len(layers) - 1\n",
    "start = time.time()\n",
    "parameters, costs = model_mini_batch_dropout_SNN(x_train, y_train, layers, learning_rate = 0.5, keep_prob = 0.8, mini_batch_size = 512, num_iterations = 50, print_cost = True, print_every = 5, initialization = \"rand\", loaded_parameters = {})\n",
    "end = time.time()\n",
    "print(\"Time = \" + str(end - start))\n",
    "\n",
    "predictions = predict_SNN(x_test, parameters, num_hidden_layers)\n",
    "accuracy = compute_accuracy(predictions, y_test)\n",
    "print(\"accuracy = \" + str(accuracy))"
   ]
  },
  {
   "cell_type": "markdown",
   "metadata": {},
   "source": [
    "A 2 layer Neural Network with layers = [n_x, 800, num_labels], was able to achieve 0.9809 accuracy after 50 epochs (iterations) using mini batch = 512 and dropout 0.8"
   ]
  },
  {
   "cell_type": "code",
   "execution_count": 14,
   "metadata": {},
   "outputs": [
    {
     "name": "stdout",
     "output_type": "stream",
     "text": [
      "Cost in iteration 0 is = 0.01473059742795696\n",
      "Cost in iteration 5 is = 0.05095849328932212\n",
      "Time = 26.765535831451416\n",
      "accuracy = 0.9818\n"
     ]
    }
   ],
   "source": [
    "n_x = x_train.shape[0]\n",
    "layers = [n_x, 800, num_labels]\n",
    "num_hidden_layers = len(layers) - 1\n",
    "start = time.time()\n",
    "parameters, costs = model_mini_batch_dropout_SNN(x_train, y_train, layers, learning_rate = 0.5, keep_prob = 0.8, mini_batch_size = 512, num_iterations = 10, print_cost = True, print_every = 5, initialization = \"load\", loaded_parameters = parameters)\n",
    "end = time.time()\n",
    "print(\"Time = \" + str(end - start))\n",
    "\n",
    "predictions = predict_SNN(x_test, parameters, num_hidden_layers)\n",
    "accuracy = compute_accuracy(predictions, y_test)\n",
    "print(\"accuracy = \" + str(accuracy))"
   ]
  },
  {
   "cell_type": "markdown",
   "metadata": {},
   "source": [
    "A 2 layer Neural Network with layers = [n_x, 800, num_labels], was able to achieve 0.9818 accuracy after 110 epochs (iterations) using mini batch = 512 and dropout 0.8"
   ]
  },
  {
   "cell_type": "code",
   "execution_count": 17,
   "metadata": {
    "scrolled": true
   },
   "outputs": [
    {
     "name": "stdout",
     "output_type": "stream",
     "text": [
      "Cost in iteration 0 is = 0.40565670107350993\n",
      "Cost in iteration 5 is = 0.07023609734452943\n",
      "Cost in iteration 10 is = 0.04511566280233554\n",
      "Cost in iteration 15 is = 0.05147137013551336\n",
      "Cost in iteration 20 is = 0.028191632963289564\n",
      "Cost in iteration 25 is = 0.03031050630310293\n",
      "Cost in iteration 30 is = 0.01997669760075205\n",
      "Cost in iteration 35 is = 0.018695748073068955\n",
      "Cost in iteration 40 is = 0.024165640363559966\n",
      "Cost in iteration 45 is = 0.011461320105440688\n",
      "Cost in iteration 50 is = 0.01310484090349318\n",
      "Cost in iteration 55 is = 0.006572358406057533\n",
      "Cost in iteration 60 is = 0.0079356305687848\n",
      "Cost in iteration 65 is = 0.006544808370461803\n",
      "Cost in iteration 70 is = 0.013514864516107838\n",
      "Cost in iteration 75 is = 0.013260105149935869\n",
      "Cost in iteration 80 is = 0.0038761629114735523\n",
      "Cost in iteration 85 is = 0.009822074689816615\n",
      "Cost in iteration 90 is = 0.0026045041487907255\n",
      "Cost in iteration 95 is = 0.011659308447503063\n",
      "Time = 255.30922603607178\n",
      "accuracy = 0.982\n"
     ]
    }
   ],
   "source": [
    "#Dual Layer 1024 mini batch with dropout\n",
    "n_x = x_train.shape[0]\n",
    "layers = [n_x, 800, num_labels]\n",
    "num_hidden_layers = len(layers) - 1\n",
    "start = time.time()\n",
    "parameters, costs = model_mini_batch_dropout_SNN(x_train, y_train, layers, learning_rate = 0.5, keep_prob = 0.6, mini_batch_size = 512, num_iterations = 100, print_cost = True, print_every = 5, initialization = \"rand\", loaded_parameters = {})\n",
    "end = time.time()\n",
    "print(\"Time = \" + str(end - start))\n",
    "\n",
    "predictions = predict_SNN(x_test, parameters, num_hidden_layers)\n",
    "accuracy = compute_accuracy(predictions, y_test)\n",
    "print(\"accuracy = \" + str(accuracy))"
   ]
  },
  {
   "cell_type": "markdown",
   "metadata": {},
   "source": [
    "A 2 layer Neural Network with layers = [n_x, 800, num_labels], was able to achieve 0.982 accuracy after 100 epochs (iterations) using mini batch = 512 and dropout 0.6"
   ]
  },
  {
   "cell_type": "code",
   "execution_count": 11,
   "metadata": {},
   "outputs": [
    {
     "name": "stdout",
     "output_type": "stream",
     "text": [
      "Cost in iteration 0 is = 0.45286853768539964\n",
      "Cost in iteration 5 is = 0.1524882937977333\n",
      "Time = 23.698756217956543\n",
      "accuracy = 0.9671\n"
     ]
    }
   ],
   "source": [
    "#Dual Layer 1024 mini batch with dropout\n",
    "n_x = x_train.shape[0]\n",
    "layers = [n_x, 800, num_labels]\n",
    "num_hidden_layers = len(layers) - 1\n",
    "start = time.time()\n",
    "parameters, costs = model_mini_batch_dropout_SNN(x_train, y_train, layers, learning_rate = 0.5, keep_prob = 0.6, mini_batch_size = 512, num_iterations = 10, print_cost = True, print_every = 5, initialization = \"rand\", loaded_parameters = {})\n",
    "end = time.time()\n",
    "print(\"Time = \" + str(end - start))\n",
    "\n",
    "predictions = predict_SNN(x_test, parameters, num_hidden_layers)\n",
    "accuracy = compute_accuracy(predictions, y_test)\n",
    "print(\"accuracy = \" + str(accuracy))"
   ]
  },
  {
   "cell_type": "markdown",
   "metadata": {},
   "source": [
    "## Gradient descent with momentum Optimizer"
   ]
  },
  {
   "cell_type": "code",
   "execution_count": 8,
   "metadata": {},
   "outputs": [
    {
     "name": "stdout",
     "output_type": "stream",
     "text": [
      "Cost in iteration 0 is = 0.020974475652774795\n",
      "Cost in iteration 5 is = 0.04041520144941645\n",
      "Cost in iteration 10 is = 0.02359901082158394\n",
      "Cost in iteration 15 is = 0.0166110784691672\n",
      "Cost in iteration 20 is = 0.019332179709220187\n",
      "Cost in iteration 25 is = 0.015733382553522635\n",
      "Cost in iteration 30 is = 0.018007833601362006\n",
      "Cost in iteration 35 is = 0.00624870641068422\n",
      "Cost in iteration 40 is = 0.004805746947388986\n",
      "Cost in iteration 45 is = 0.003164289019747002\n",
      "Time = 139.71671295166016\n",
      "accuracy = 0.9826\n"
     ]
    }
   ],
   "source": [
    "n_x = x_train.shape[0]\n",
    "layers = [n_x, 800, num_labels]\n",
    "num_hidden_layers = len(layers) - 1\n",
    "start = time.time()\n",
    "parameters, costs = model_dropout_Opt_SNN(x_train, y_train, layers, learning_rate = 0.5,  keep_prob = 0.6, mini_batch_size = 512, beta1 = 0.5, beta2 = 0.999, optimizer = \"momentum\", num_iterations = 50, print_cost = True, print_every = 5, initialization = \"load\", loaded_parameters = parameters)\n",
    "end = time.time()\n",
    "print(\"Time = \" + str(end - start))\n",
    "\n",
    "predictions = predict_SNN(x_test, parameters, num_hidden_layers)\n",
    "accuracy = compute_accuracy(predictions, y_test)\n",
    "print(\"accuracy = \" + str(accuracy))\n"
   ]
  },
  {
   "cell_type": "markdown",
   "metadata": {},
   "source": [
    "A 2 layer Neural Network with layers = [n_x, 800, num_labels], was able to achieve 0.982 accuracy after 100 epochs (iterations) using mini batch = 512, dropout 0.6 and momentum optimizer with beta1 = 0.5"
   ]
  },
  {
   "cell_type": "markdown",
   "metadata": {},
   "source": [
    "## RMSprop"
   ]
  },
  {
   "cell_type": "code",
   "execution_count": 14,
   "metadata": {},
   "outputs": [
    {
     "name": "stdout",
     "output_type": "stream",
     "text": [
      "Cost in iteration 0 is = 0.36824789459784\n",
      "Cost in iteration 5 is = 0.07106280356962873\n",
      "Cost in iteration 10 is = 0.02796217754531612\n",
      "Cost in iteration 15 is = 0.014983640854962213\n",
      "Cost in iteration 20 is = 0.009648336552688718\n",
      "Cost in iteration 25 is = 0.011104915119257498\n",
      "Cost in iteration 30 is = 0.005209602599766469\n",
      "Cost in iteration 35 is = 0.003036335817726907\n",
      "Cost in iteration 40 is = 0.004075799521866712\n",
      "Cost in iteration 45 is = 0.002824858848696939\n",
      "Time = 201.30750513076782\n",
      "accuracy = 0.9839\n"
     ]
    }
   ],
   "source": [
    "n_x = x_train.shape[0]\n",
    "layers = [n_x, 800, num_labels]\n",
    "num_hidden_layers = len(layers) - 1\n",
    "start = time.time()\n",
    "parameters, costs = model_dropout_Opt_SNN(x_train, y_train, layers, learning_rate = 0.001,  keep_prob = 0.6, mini_batch_size = 512, beta1 = 0.9, beta2 = 0.999, optimizer = \"rms\", num_iterations = 50, print_cost = True, print_every = 5, initialization = \"rand\", loaded_parameters = parameters)\n",
    "end = time.time()\n",
    "print(\"Time = \" + str(end - start))\n",
    "\n",
    "predictions = predict_SNN(x_test, parameters, num_hidden_layers)\n",
    "accuracy = compute_accuracy(predictions, y_test)\n",
    "print(\"accuracy = \" + str(accuracy))\n"
   ]
  },
  {
   "cell_type": "markdown",
   "metadata": {},
   "source": [
    "A 2 layer Neural Network with layers = [n_x, 800, num_labels], was able to achieve 0.9839 accuracy after 50 epochs (iterations) using mini batch = 512, dropout 0.6 and RMSprop optimizer with beta2 = 0.999"
   ]
  },
  {
   "cell_type": "code",
   "execution_count": 18,
   "metadata": {},
   "outputs": [
    {
     "name": "stdout",
     "output_type": "stream",
     "text": [
      "Cost in iteration 0 is = 2.30833287355722\n",
      "Cost in iteration 5 is = 2.251004243926743\n",
      "Cost in iteration 10 is = 2.1785982182709698\n",
      "Cost in iteration 15 is = 2.1215236164073503\n",
      "Cost in iteration 20 is = 2.053370121866539\n",
      "Cost in iteration 25 is = 1.9121368673090817\n",
      "Cost in iteration 30 is = 1.7692020389381324\n",
      "Cost in iteration 35 is = 1.6422429611173552\n",
      "Cost in iteration 40 is = 1.4623064817899987\n",
      "Cost in iteration 45 is = 1.3582633170672611\n",
      "Time = 142.60676622390747\n",
      "accuracy = 0.7868\n"
     ]
    }
   ],
   "source": [
    "#Using momentum with the settings used for RMSprop did not work\n",
    "n_x = x_train.shape[0]\n",
    "layers = [n_x, 800, num_labels]\n",
    "num_hidden_layers = len(layers) - 1\n",
    "start = time.time()\n",
    "parameters, costs = model_dropout_Opt_SNN(x_train, y_train, layers, learning_rate = 0.001,  keep_prob = 0.6, mini_batch_size = 512, beta1 = 0.9, beta2 = 0.999, optimizer = \"momentum\", num_iterations = 50, print_cost = True, print_every = 5, initialization = \"rand\", loaded_parameters = parameters)\n",
    "end = time.time()\n",
    "print(\"Time = \" + str(end - start))\n",
    "\n",
    "predictions = predict_SNN(x_test, parameters, num_hidden_layers)\n",
    "accuracy = compute_accuracy(predictions, y_test)\n",
    "print(\"accuracy = \" + str(accuracy))\n"
   ]
  },
  {
   "cell_type": "markdown",
   "metadata": {},
   "source": [
    "## Adam"
   ]
  },
  {
   "cell_type": "code",
   "execution_count": 19,
   "metadata": {},
   "outputs": [
    {
     "name": "stdout",
     "output_type": "stream",
     "text": [
      "Cost in iteration 0 is = 0.3969156171352844\n",
      "Cost in iteration 5 is = 0.06803828671951767\n",
      "Cost in iteration 10 is = 0.03658513406883895\n",
      "Cost in iteration 15 is = 0.01607436678969358\n",
      "Cost in iteration 20 is = 0.009884926497159678\n",
      "Cost in iteration 25 is = 0.010528394230469681\n",
      "Cost in iteration 30 is = 0.010396736129129265\n",
      "Cost in iteration 35 is = 0.014087037637767837\n",
      "Cost in iteration 40 is = 0.00197996197487642\n",
      "Cost in iteration 45 is = 0.006230175939473558\n",
      "Time = 233.18387722969055\n",
      "accuracy = 0.983\n"
     ]
    }
   ],
   "source": [
    "n_x = x_train.shape[0]\n",
    "layers = [n_x, 800, num_labels]\n",
    "num_hidden_layers = len(layers) - 1\n",
    "start = time.time()\n",
    "parameters, costs = model_dropout_Opt_SNN(x_train, y_train, layers, learning_rate = 0.001,  keep_prob = 0.6, mini_batch_size = 512, beta1 = 0.9, beta2 = 0.999, optimizer = \"adam\", num_iterations = 50, print_cost = True, print_every = 5, initialization = \"rand\", loaded_parameters = parameters)\n",
    "end = time.time()\n",
    "print(\"Time = \" + str(end - start))\n",
    "\n",
    "predictions = predict_SNN(x_test, parameters, num_hidden_layers)\n",
    "accuracy = compute_accuracy(predictions, y_test)\n",
    "print(\"accuracy = \" + str(accuracy))\n"
   ]
  },
  {
   "cell_type": "code",
   "execution_count": 25,
   "metadata": {},
   "outputs": [
    {
     "name": "stdout",
     "output_type": "stream",
     "text": [
      "Cost in iteration 0 is = 0.4156840448474583\n",
      "Cost in iteration 5 is = 0.11440776928378012\n",
      "Cost in iteration 10 is = 0.033221033230067594\n",
      "Cost in iteration 15 is = 0.018181833428563273\n",
      "Cost in iteration 20 is = 0.028503591231386436\n",
      "Cost in iteration 25 is = 0.014750114826010243\n",
      "Cost in iteration 30 is = 0.008706880838149364\n",
      "Cost in iteration 35 is = 0.0039456772691254674\n",
      "Cost in iteration 40 is = 0.002389481239961592\n",
      "Cost in iteration 45 is = 0.0018534596090154\n",
      "Time = 219.19909715652466\n",
      "accuracy = 0.9834\n"
     ]
    }
   ],
   "source": [
    "n_x = x_train.shape[0]\n",
    "layers = [n_x, 800, num_labels]\n",
    "num_hidden_layers = len(layers) - 1\n",
    "start = time.time()\n",
    "parameters, costs = model_dropout_Opt_SNN(x_train, y_train, layers, learning_rate = 0.001,  keep_prob = 0.5, mini_batch_size = 512, beta1 = 0.9, beta2 = 0.999, optimizer = \"adam\", num_iterations = 50, print_cost = True, print_every = 5, initialization = \"rand\", loaded_parameters = parameters)\n",
    "end = time.time()\n",
    "print(\"Time = \" + str(end - start))\n",
    "\n",
    "predictions = predict_SNN(x_test, parameters, num_hidden_layers)\n",
    "accuracy = compute_accuracy(predictions, y_test)\n",
    "print(\"accuracy = \" + str(accuracy))\n"
   ]
  },
  {
   "cell_type": "markdown",
   "metadata": {},
   "source": [
    "A 2 layer Neural Network with layers = [n_x, 800, num_labels], was able to achieve 0.9834 accuracy after 50 epochs (iterations) using mini batch = 512, dropout 0.5 and Adam optimizer with beta1 = 0.9 and beta2 = 0.999"
   ]
  },
  {
   "cell_type": "code",
   "execution_count": null,
   "metadata": {},
   "outputs": [],
   "source": []
  }
 ],
 "metadata": {
  "kernelspec": {
   "display_name": "Python 3",
   "language": "python",
   "name": "python3"
  },
  "language_info": {
   "codemirror_mode": {
    "name": "ipython",
    "version": 3
   },
   "file_extension": ".py",
   "mimetype": "text/x-python",
   "name": "python",
   "nbconvert_exporter": "python",
   "pygments_lexer": "ipython3",
   "version": "3.7.3"
  }
 },
 "nbformat": 4,
 "nbformat_minor": 2
}
