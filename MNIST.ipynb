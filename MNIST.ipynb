{
 "cells": [
  {
   "cell_type": "code",
   "execution_count": 22,
   "metadata": {},
   "outputs": [],
   "source": [
    "from softmax_neural_network import *\n",
    "import matplotlib.pyplot as plt\n",
    "import tensorflow as tf"
   ]
  },
  {
   "cell_type": "markdown",
   "metadata": {},
   "source": [
    "This notebook tests different modifications to a softmax output neural network "
   ]
  },
  {
   "cell_type": "code",
   "execution_count": 23,
   "metadata": {},
   "outputs": [],
   "source": [
    "(x_train_orig, y_train_orig), (x_test_orig, y_test_orig) = tf.keras.datasets.mnist.load_data()"
   ]
  },
  {
   "cell_type": "code",
   "execution_count": 24,
   "metadata": {},
   "outputs": [
    {
     "name": "stdout",
     "output_type": "stream",
     "text": [
      "4\n"
     ]
    },
    {
     "data": {
      "text/plain": [
       "<matplotlib.image.AxesImage at 0x12de95780>"
      ]
     },
     "execution_count": 24,
     "metadata": {},
     "output_type": "execute_result"
    },
    {
     "data": {
      "image/png": "[encoded data removed]",
      "text/plain": [
       "<matplotlib.figure.Figure at 0x12d91ad68>"
      ]
     },
     "metadata": {},
     "output_type": "display_data"
    }
   ],
   "source": [
    "%matplotlib inline\n",
    "image_index = 60# You may select anything up to 60,000\n",
    "print(y_train_orig[image_index]) \n",
    "plt.imshow(x_train_orig[image_index], cmap='Greys')"
   ]
  },
  {
   "cell_type": "code",
   "execution_count": 58,
   "metadata": {},
   "outputs": [
    {
     "name": "stdout",
     "output_type": "stream",
     "text": [
      "Number of labels = 10\n",
      "y_train shape = (10, 60000)\n",
      "y_test shape = (10, 10000)\n",
      "one_hot = [0. 0. 0. 0. 0. 1. 0. 0. 0. 0.] original label = 5\n",
      "one_hot = [0. 0. 1. 0. 0. 0. 0. 0. 0. 0.] original label = 2\n",
      "x_train shape = (784, 60000)\n",
      "x_test shape = (784, 10000)\n"
     ]
    }
   ],
   "source": [
    "#Basic setup\n",
    "def one_hotorize(x, num_labels):\n",
    "    #x must be of shape (1,m)\n",
    "    m = x.shape[1]\n",
    "    columns = np.arange(m)\n",
    "    one_indexes = x\n",
    "    one_hot = np.zeros((num_labels, m))\n",
    "    one_hot[one_indexes, columns] = 1\n",
    "    return one_hot\n",
    "    \n",
    "num_labels = 10\n",
    "print(\"Number of labels = \" + str(num_labels))\n",
    "\n",
    "#Reshaping the y arrays, to be an example each column and one hot vetors\n",
    "y_train_one = y_train_orig.reshape(y_train_orig.shape[0],1).T\n",
    "y_test_one = y_test_orig.reshape(y_test_orig.shape[0],1).T\n",
    "\n",
    "y_train = one_hotorize(y_train_one, num_labels)\n",
    "y_test = one_hotorize(y_test_one, num_labels)\n",
    "\n",
    "y_train = y_train.astype('float')\n",
    "y_test = y_test.astype('float')\n",
    "\n",
    "print(\"y_train shape = \" + str(y_train.shape))\n",
    "print(\"y_test shape = \" + str(y_test.shape))\n",
    "\n",
    "print(\"one_hot = \" + str(y_train[:,0]) + \" original label = \" + str(y_train_orig[0]))\n",
    "print(\"one_hot = \" + str(y_train[:,555]) + \" original label = \" + str(y_train_orig[555]))\n",
    "\n",
    "#Reshaping the x tensors to a matrix of the examples as each column\n",
    "x_train = x_train_orig.reshape(x_train_orig.shape[0],x_train_orig.shape[1] * x_train_orig.shape[2]) .T\n",
    "x_test = x_test_orig.reshape(x_test_orig.shape[0],x_test_orig.shape[1] * x_test_orig.shape[2]) .T\n",
    "\n",
    "x_train = x_train.astype('float')\n",
    "x_test = x_test.astype('float')\n",
    "\n",
    "#Normalizing\n",
    "x_train /= 255\n",
    "x_test /= 255\n",
    "\n",
    "print(\"x_train shape = \" + str(x_train.shape))\n",
    "print(\"x_test shape = \" + str(x_test.shape))\n"
   ]
  },
  {
   "cell_type": "markdown",
   "metadata": {},
   "source": [
    "### One layer network"
   ]
  },
  {
   "cell_type": "code",
   "execution_count": 59,
   "metadata": {
    "collapsed": true
   },
   "outputs": [],
   "source": [
    "#Single Layer\n",
    "n_x = x_train.shape[0]\n",
    "layers = [n_x, num_labels]\n",
    "num_hidden_layers = len(layers) - 1"
   ]
  },
  {
   "cell_type": "code",
   "execution_count": 63,
   "metadata": {},
   "outputs": [
    {
     "name": "stdout",
     "output_type": "stream",
     "text": [
      "Cost in iteration 0 is = 2.6430679141407745\n",
      "Cost in iteration 100 is = 0.40661177177044544\n",
      "Cost in iteration 200 is = 0.35606624986795554\n",
      "Cost in iteration 300 is = 0.33334112442944974\n",
      "Cost in iteration 400 is = 0.3195851443835973\n",
      "Cost in iteration 500 is = 0.3100847536144308\n",
      "Cost in iteration 600 is = 0.30300709552694244\n",
      "Cost in iteration 700 is = 0.29746587982847916\n",
      "Cost in iteration 800 is = 0.29297189161551784\n",
      "Cost in iteration 900 is = 0.2892297516199464\n"
     ]
    }
   ],
   "source": [
    "parameters, costs = model_SNN(x_train, y_train, layers, learning_rate = 0.5, num_iterations = 1000, print_cost = True, print_every = 100, initialization = \"rand\", loaded_parameters = {})\n"
   ]
  },
  {
   "cell_type": "code",
   "execution_count": 64,
   "metadata": {
    "collapsed": true
   },
   "outputs": [],
   "source": [
    "def compute_accuracy(predictions, Y):\n",
    "    m = Y.shape[1]\n",
    "    mistakes = np.sum(np.abs(predictions - Y)) / 2\n",
    "    return (m - mistakes) / m"
   ]
  },
  {
   "cell_type": "code",
   "execution_count": 65,
   "metadata": {
    "collapsed": true
   },
   "outputs": [],
   "source": [
    "predictions = predict_SNN(x_test, parameters, num_hidden_layers)"
   ]
  },
  {
   "cell_type": "code",
   "execution_count": 67,
   "metadata": {},
   "outputs": [
    {
     "name": "stdout",
     "output_type": "stream",
     "text": [
      "0.9211\n"
     ]
    }
   ],
   "source": [
    "accuracy = compute_accuracy(predictions, y_test)\n",
    "print(accuracy)"
   ]
  },
  {
   "cell_type": "code",
   "execution_count": 76,
   "metadata": {},
   "outputs": [
    {
     "data": {
      "text/plain": [
       "array([[0.],\n",
       "       [0.],\n",
       "       [0.],\n",
       "       [0.],\n",
       "       [1.],\n",
       "       [0.],\n",
       "       [0.],\n",
       "       [0.],\n",
       "       [0.],\n",
       "       [0.]])"
      ]
     },
     "execution_count": 76,
     "metadata": {},
     "output_type": "execute_result"
    }
   ],
   "source": [
    "example = x_train[:, 60].reshape(784, 1) # It is the digit 4\n",
    "prediction_ex = predict_SNN(example, parameters, num_hidden_layers)\n",
    "prediction_ex"
   ]
  },
  {
   "cell_type": "markdown",
   "metadata": {},
   "source": [
    "### Two Layer network"
   ]
  },
  {
   "cell_type": "code",
   "execution_count": null,
   "metadata": {},
   "outputs": [
    {
     "name": "stdout",
     "output_type": "stream",
     "text": [
      "Cost in iteration 0 is = 2.628091790875612\n",
      "Cost in iteration 100 is = 0.5506286840081004\n",
      "Cost in iteration 200 is = 0.41344062028613615\n",
      "Cost in iteration 300 is = 0.39645394652606764\n",
      "Cost in iteration 400 is = 0.36288063245494795\n"
     ]
    }
   ],
   "source": [
    "n_x = x_train.shape[0]\n",
    "layers = [n_x, 10, num_labels]\n",
    "num_hidden_layers = len(layers) - 1\n",
    "parameters, costs = model_SNN(x_train, y_train, layers, learning_rate = 0.5, num_iterations = 1000, print_cost = True, print_every = 100, initialization = \"rand\", loaded_parameters = {})\n"
   ]
  },
  {
   "cell_type": "code",
   "execution_count": null,
   "metadata": {
    "collapsed": true
   },
   "outputs": [],
   "source": []
  }
 ],
 "metadata": {
  "kernelspec": {
   "display_name": "Python 3",
   "language": "python",
   "name": "python3"
  },
  "language_info": {
   "codemirror_mode": {
    "name": "ipython",
    "version": 3
   },
   "file_extension": ".py",
   "mimetype": "text/x-python",
   "name": "python",
   "nbconvert_exporter": "python",
   "pygments_lexer": "ipython3",
   "version": "3.6.1"
  }
 },
 "nbformat": 4,
 "nbformat_minor": 2
}
